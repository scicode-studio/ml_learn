{
 "cells": [
  {
   "cell_type": "markdown",
   "metadata": {},
   "source": [
    "## Aufgabe 2"
   ]
  },
  {
   "cell_type": "code",
   "execution_count": 25,
   "metadata": {},
   "outputs": [
    {
     "name": "stdout",
     "output_type": "stream",
     "text": [
      "List:  [1 4 5 4 6 9 3 5 4 0]\n",
      "Shape:  (10,)\n",
      "Type:  <class 'numpy.ndarray'>\n",
      "Datentyp der Elemente:  int64\n"
     ]
    }
   ],
   "source": [
    "import numpy as np\n",
    "import math\n",
    "\n",
    "list = np.random.randint(10,size=10)\n",
    "as_array = np.array(list)\n",
    "print(\"List: \", as_array)\n",
    "print(\"Shape: \", as_array.shape)\n",
    "print(\"Type: \", type(as_array))\n",
    "print(\"Datentyp der Elemente: \", as_array.dtype)"
   ]
  },
  {
   "cell_type": "markdown",
   "metadata": {},
   "source": [
    "## Aufgabe 3"
   ]
  },
  {
   "cell_type": "code",
   "execution_count": 13,
   "metadata": {},
   "outputs": [
    {
     "name": "stdout",
     "output_type": "stream",
     "text": [
      "[48 49 43 47 46 49 46 42 44 43]\n",
      "[-15 -14 -20 -16 -17 -14 -17 -21 -19 -20]\n",
      "[12 14  2 10  8 14  8  0  4  2]\n"
     ]
    }
   ],
   "source": [
    "print(as_array + 42)\n",
    "print(as_array - 21)\n",
    "print(as_array * 2)"
   ]
  },
  {
   "cell_type": "markdown",
   "metadata": {},
   "source": [
    "## Aufgabe 4"
   ]
  },
  {
   "cell_type": "code",
   "execution_count": 14,
   "metadata": {},
   "outputs": [
    {
     "name": "stdout",
     "output_type": "stream",
     "text": [
      "3.7\n",
      "4.0\n",
      "2.4515301344262523\n"
     ]
    }
   ],
   "source": [
    "print(np.mean(as_array))\n",
    "print(np.median(as_array))\n",
    "print(np.std(as_array))"
   ]
  },
  {
   "cell_type": "markdown",
   "metadata": {},
   "source": [
    "## Aufgabe 5"
   ]
  },
  {
   "cell_type": "code",
   "execution_count": 18,
   "metadata": {},
   "outputs": [
    {
     "name": "stdout",
     "output_type": "stream",
     "text": [
      "[[7 2 5 5]\n",
      " [5 4 8 5]\n",
      " [5 0 1 6]\n",
      " [6 7 8 9]]\n"
     ]
    }
   ],
   "source": [
    "mul_dimensional = np.random.randint(10, size=(4,4))\n",
    "print(mul_dimensional)"
   ]
  },
  {
   "cell_type": "code",
   "execution_count": 19,
   "metadata": {},
   "outputs": [
    {
     "name": "stdout",
     "output_type": "stream",
     "text": [
      "[108  54 117  90]\n"
     ]
    }
   ],
   "source": [
    "\n",
    "print((mul_dimensional[0] + mul_dimensional[1]) * mul_dimensional[-1,-1])"
   ]
  },
  {
   "cell_type": "markdown",
   "metadata": {},
   "source": [
    "## Aufgabe 6"
   ]
  },
  {
   "cell_type": "code",
   "execution_count": 27,
   "metadata": {},
   "outputs": [
    {
     "name": "stdout",
     "output_type": "stream",
     "text": [
      "[[7 2 5 5 5 4 8 5]\n",
      " [5 0 1 6 6 7 8 9]]\n"
     ]
    }
   ],
   "source": [
    "first_dimension = 2\n",
    "reshaped = mul_dimensional.reshape(first_dimension,int(mul_dimensional.size/first_dimension))\n",
    "print(reshaped)"
   ]
  },
  {
   "cell_type": "markdown",
   "metadata": {},
   "source": [
    "## Final"
   ]
  },
  {
   "cell_type": "code",
   "execution_count": 29,
   "metadata": {},
   "outputs": [
    {
     "name": "stdout",
     "output_type": "stream",
     "text": [
      "[[5 4 4 7 4]\n",
      " [6 2 4 7 2]\n",
      " [4 2 8 2 8]\n",
      " [7 8 4 6 5]\n",
      " [1 4 4 8 7]]\n"
     ]
    }
   ],
   "source": [
    "final = np.random.randint(10,size=(5,5))\n",
    "print(final)"
   ]
  },
  {
   "cell_type": "code",
   "execution_count": 30,
   "metadata": {},
   "outputs": [
    {
     "name": "stdout",
     "output_type": "stream",
     "text": [
      "Total:  123\n",
      "Column Sums:  [23 20 24 30 26]\n",
      "Row Sums:  [24 21 24 30 24]\n"
     ]
    }
   ],
   "source": [
    "total_sum = np.sum(final)\n",
    "column_sums = np.sum(final, axis=0)\n",
    "row_sums = np.sum(final, axis=1)\n",
    "\n",
    "print(\"Total: \", total_sum)\n",
    "print(\"Column Sums: \", column_sums)\n",
    "print(\"Row Sums: \", row_sums)"
   ]
  },
  {
   "cell_type": "code",
   "execution_count": 34,
   "metadata": {},
   "outputs": [
    {
     "name": "stdout",
     "output_type": "stream",
     "text": [
      "Min:  1  at [ 20 ], Max:  8  at [ 12 ]\n"
     ]
    }
   ],
   "source": [
    "print(\"Min: \", np.min(final), \" at [\", np.argmin(final),\"], Max: \", np.max(final), \" at [\", np.argmax(final), \"]\")"
   ]
  }
 ],
 "metadata": {
  "kernelspec": {
   "display_name": "ml_learn",
   "language": "python",
   "name": "python3"
  },
  "language_info": {
   "codemirror_mode": {
    "name": "ipython",
    "version": 3
   },
   "file_extension": ".py",
   "mimetype": "text/x-python",
   "name": "python",
   "nbconvert_exporter": "python",
   "pygments_lexer": "ipython3",
   "version": "3.11.5"
  }
 },
 "nbformat": 4,
 "nbformat_minor": 2
}
